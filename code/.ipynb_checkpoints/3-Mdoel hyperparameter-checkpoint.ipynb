{
 "cells": [
  {
   "cell_type": "markdown",
   "id": "f09cdac5",
   "metadata": {
    "ExecuteTime": {
     "end_time": "2023-12-06T08:26:14.674118Z",
     "start_time": "2023-12-06T08:26:14.668117Z"
    }
   },
   "source": [
    "# Model hyperparameter For RBC Transfusion "
   ]
  },
  {
   "cell_type": "code",
   "execution_count": 1,
   "id": "a9280c86",
   "metadata": {
    "ExecuteTime": {
     "end_time": "2023-12-08T11:49:48.556969Z",
     "start_time": "2023-12-08T11:49:47.870392Z"
    }
   },
   "outputs": [],
   "source": [
    "import pandas as pd\n",
    "import numpy as np \n",
    "from numpy import mean\n",
    "from numpy import std\n",
    "import random\n",
    "import matplotlib.pyplot as plt\n",
    "import warnings\n",
    "warnings.filterwarnings('ignore')"
   ]
  },
  {
   "cell_type": "code",
   "execution_count": 2,
   "id": "d263765f",
   "metadata": {
    "ExecuteTime": {
     "end_time": "2023-12-08T11:49:49.041756Z",
     "start_time": "2023-12-08T11:49:48.589535Z"
    }
   },
   "outputs": [],
   "source": [
    "from sklearn.preprocessing import StandardScaler\n",
    "from sklearn.feature_selection import mutual_info_classif\n",
    "from sklearn.model_selection import train_test_split"
   ]
  },
  {
   "cell_type": "code",
   "execution_count": 3,
   "id": "3f9cf653",
   "metadata": {
    "ExecuteTime": {
     "end_time": "2023-12-08T11:49:49.088781Z",
     "start_time": "2023-12-08T11:49:49.074704Z"
    }
   },
   "outputs": [],
   "source": [
    "from sklearn.model_selection import KFold\n",
    "from sklearn.model_selection import cross_val_score\n",
    "from sklearn.model_selection import GridSearchCV\n",
    "from sklearn.metrics import classification_report\n",
    "from sklearn.metrics import confusion_matrix\n",
    "from sklearn.metrics import accuracy_score\n",
    "from sklearn.pipeline import Pipeline\n"
   ]
  },
  {
   "cell_type": "code",
   "execution_count": 4,
   "id": "7b6b928b",
   "metadata": {
    "ExecuteTime": {
     "end_time": "2023-12-08T11:49:49.229451Z",
     "start_time": "2023-12-08T11:49:49.222450Z"
    }
   },
   "outputs": [],
   "source": [
    "from sklearn import metrics\n",
    "\n",
    "\n",
    "from sklearn.metrics import (accuracy_score,\n",
    "                             precision_score,\n",
    "                             recall_score, \n",
    "                             f1_score,\n",
    "                             roc_auc_score, \n",
    "                             precision_recall_curve,\n",
    "                             balanced_accuracy_score,\n",
    "                             auc)"
   ]
  },
  {
   "cell_type": "code",
   "execution_count": 23,
   "id": "d324361a",
   "metadata": {
    "ExecuteTime": {
     "end_time": "2023-12-08T12:09:26.295614Z",
     "start_time": "2023-12-08T12:09:25.407698Z"
    }
   },
   "outputs": [],
   "source": [
    "from sklearn.linear_model import LogisticRegression\n",
    "from sklearn.tree import DecisionTreeClassifier\n",
    "from sklearn.neighbors import KNeighborsClassifier\n",
    "from sklearn.discriminant_analysis import LinearDiscriminantAnalysis\n",
    "from sklearn.naive_bayes import GaussianNB\n",
    "from sklearn.svm import SVC\n",
    "from sklearn.ensemble import AdaBoostClassifier\n",
    "from sklearn.ensemble import GradientBoostingClassifier\n",
    "from sklearn.ensemble import RandomForestClassifier\n",
    "from sklearn.ensemble import ExtraTreesClassifier\n",
    "import xgboost as xgb\n",
    "import lightgbm as lgb\n",
    "import catboost as cb"
   ]
  },
  {
   "cell_type": "code",
   "execution_count": 24,
   "id": "79792663",
   "metadata": {
    "ExecuteTime": {
     "end_time": "2023-12-08T12:09:26.909471Z",
     "start_time": "2023-12-08T12:09:26.894474Z"
    }
   },
   "outputs": [],
   "source": [
    "from sklearn.model_selection import StratifiedKFold\n",
    "stratifiedkf=StratifiedKFold(n_splits=5)\n",
    "scoring = 'roc_auc'"
   ]
  },
  {
   "cell_type": "markdown",
   "id": "307e756b",
   "metadata": {},
   "source": [
    "## rescaledtrainX，target_trainval was from the data processing part\n",
    "## This part carries on the data processing part（1-Data analysis）"
   ]
  },
  {
   "cell_type": "markdown",
   "id": "1290ea8f",
   "metadata": {},
   "source": [
    "## Logistic Regression"
   ]
  },
  {
   "cell_type": "code",
   "execution_count": 2,
   "id": "667c9d80",
   "metadata": {
    "ExecuteTime": {
     "end_time": "2023-12-10T08:25:35.572234Z",
     "start_time": "2023-12-10T08:25:35.555234Z"
    }
   },
   "outputs": [],
   "source": [
    "c_values = [ 0.5, 0.7, 0.9, 1.0, 1.3, 1.5, 1.7, 2.0]\n",
    "penalty=['l1','l2', 'elasticnet' ,'none']\n",
    "param_grid = dict(C=c_values, penalty=penalty)\n",
    "model = LogisticRegression()\n",
    "\n",
    "stratifiedkf=StratifiedKFold(n_splits=5)\n",
    "\n",
    "grid = GridSearchCV(estimator=model, param_grid=param_grid, scoring=scoring, cv=stratifiedkf)\n",
    "\n",
    "#rescaledtrainX，target_trainval was from the data processin part\n",
    "grid_result = grid.fit(rescaledtrainX, target_trainval)\n",
    "\n",
    "print(\"Best: %f using %s\" % (grid_result.best_score_, grid_result.best_params_))\n",
    "means = grid_result.cv_results_['mean_test_score']\n",
    "stds = grid_result.cv_results_['std_test_score']\n",
    "params = grid_result.cv_results_['params']\n",
    "for mean, stdev, param in zip(means, stds, params):\n",
    "    print(\"%f (%f) with: %r\" % (mean, stdev, param))\n"
   ]
  },
  {
   "cell_type": "markdown",
   "id": "ff023d05",
   "metadata": {},
   "source": [
    "## Suppor Vector Machine"
   ]
  },
  {
   "cell_type": "code",
   "execution_count": 3,
   "id": "a0b9a769",
   "metadata": {
    "ExecuteTime": {
     "end_time": "2023-12-10T08:25:40.470546Z",
     "start_time": "2023-12-10T08:25:40.456525Z"
    },
    "scrolled": true
   },
   "outputs": [],
   "source": [
    "\n",
    "c_values = [0.1, 0.01,0.03]\n",
    "kernel_values = ['linear', 'poly', 'rbf', 'sigmoid']\n",
    "param_grid = dict(C=c_values, kernel=kernel_values)\n",
    "model = SVC()\n",
    "\n",
    "stratifiedkf=StratifiedKFold(n_splits=5)\n",
    "\n",
    "grid = GridSearchCV(estimator=model, param_grid=param_grid, scoring=scoring, cv=stratifiedkf)\n",
    "grid_result = grid.fit(rescaledtrainX, target_trainval)\n",
    "print(\"Best: %f using %s\" % (grid_result.best_score_, grid_result.best_params_))\n",
    "\n",
    "means = grid_result.cv_results_['mean_test_score']\n",
    "stds = grid_result.cv_results_['std_test_score']\n",
    "params = grid_result.cv_results_['params']\n",
    "for mean, stdev, param in zip(means, stds, params):\n",
    "    print(\"%f (%f) with: %r\" % (mean, stdev, param))\n",
    "    "
   ]
  },
  {
   "cell_type": "markdown",
   "id": "de181add",
   "metadata": {},
   "source": [
    "## KNeighborsClassifier "
   ]
  },
  {
   "cell_type": "code",
   "execution_count": 4,
   "id": "6c790654",
   "metadata": {
    "ExecuteTime": {
     "end_time": "2023-12-10T08:25:44.462259Z",
     "start_time": "2023-12-10T08:25:44.456258Z"
    }
   },
   "outputs": [],
   "source": [
    "\n",
    "neighbors = [3,5,7,9,15,17,19,21,23,25]\n",
    "param_grid = dict(n_neighbors=neighbors)\n",
    "\n",
    "model = KNeighborsClassifier()\n",
    "\n",
    "grid = GridSearchCV(estimator=model, param_grid=param_grid, scoring=scoring, cv=stratifiedkf)\n",
    "grid_result = grid.fit(rescaledtrainX, target_trainval)\n",
    "print(\"Best: %f using %s\" % (grid_result.best_score_, grid_result.best_params_))"
   ]
  },
  {
   "cell_type": "markdown",
   "id": "9b239e0e",
   "metadata": {},
   "source": [
    "## Naive Bayes"
   ]
  },
  {
   "cell_type": "code",
   "execution_count": 5,
   "id": "09455f92",
   "metadata": {
    "ExecuteTime": {
     "end_time": "2023-12-10T08:25:48.562738Z",
     "start_time": "2023-12-10T08:25:48.560735Z"
    }
   },
   "outputs": [],
   "source": [
    "\n",
    "priors=[[0.68,0.32,],[0.7,0.3],[0.8,0.2]]\n",
    "var_smoothing =[1e-9,1e-8,1e-7]\n",
    "\n",
    "param_grid = dict(priors=priors,var_smoothing=var_smoothing)\n",
    "# param_grid = dict(C=c_values, kernel=kernel_values)\n",
    "model = GaussianNB()\n",
    "\n",
    "\n",
    "grid = GridSearchCV(estimator=model, param_grid=param_grid, scoring=scoring, cv=stratifiedkf)\n",
    "grid_result = grid.fit(rescaledtrainX, target_trainval)\n",
    "print(\"Best: %f using %s\" % (grid_result.best_score_, grid_result.best_params_))\n",
    "\n",
    "means = grid_result.cv_results_['mean_test_score']\n",
    "stds = grid_result.cv_results_['std_test_score']\n",
    "params = grid_result.cv_results_['params']\n",
    "\n",
    "for mean, stdev, param in zip(means, stds, params):\n",
    "    print(\"%f (%f) with: %r\" % (mean, stdev, param))"
   ]
  },
  {
   "cell_type": "markdown",
   "id": "21256b41",
   "metadata": {},
   "source": [
    "## Decision tree"
   ]
  },
  {
   "cell_type": "code",
   "execution_count": 6,
   "id": "62896926",
   "metadata": {
    "ExecuteTime": {
     "end_time": "2023-12-10T08:25:53.794353Z",
     "start_time": "2023-12-10T08:25:53.787351Z"
    }
   },
   "outputs": [],
   "source": [
    "# param_test = {'n_estimators':range(100,1000,200),'max_depth':range(3,16,2)}\n",
    "\n",
    "param_test= {'criterion':['gini'],'max_depth':range(10,100,10)}\n",
    "\n",
    "model = DecisionTreeClassifier()\n",
    "\n",
    "\n",
    "grid = GridSearchCV(estimator=model, param_grid=param_test, scoring=scoring, cv=stratifiedkf)\n",
    "grid_result = grid.fit(rescaledtrainX, target_trainval)\n",
    "print(\"Best: %f using %s\" % (grid_result.best_score_, grid_result.best_params_))\n",
    "\n",
    "means = grid_result.cv_results_['mean_test_score']\n",
    "stds = grid_result.cv_results_['std_test_score']\n",
    "params = grid_result.cv_results_['params']\n",
    "\n",
    "for mean, stdev, param in zip(means, stds, params):\n",
    "    print(\"%f (%f) with: %r\" % (mean, stdev, param))"
   ]
  },
  {
   "cell_type": "markdown",
   "id": "506e2baf",
   "metadata": {},
   "source": [
    "## RandomForestClassifier "
   ]
  },
  {
   "cell_type": "code",
   "execution_count": 7,
   "id": "92cb709a",
   "metadata": {
    "ExecuteTime": {
     "end_time": "2023-12-10T08:25:58.248278Z",
     "start_time": "2023-12-10T08:25:58.233280Z"
    }
   },
   "outputs": [],
   "source": [
    "\n",
    "from sklearn.model_selection import StratifiedKFold\n",
    "\n",
    "\n",
    "param_test1 = {'n_estimators':range(100,500,100),'max_depth':range(3,14,2)}\n",
    "# param_grid = dict(learning_rate=learning_rate_values)\n",
    "\n",
    "model = RandomForestClassifier()\n",
    "\n",
    "\n",
    "\n",
    "grid = GridSearchCV(estimator=model, param_grid=param_test1, scoring=scoring, cv=stratifiedkf)\n",
    "grid_result = grid.fit(rescaledtrainX, target_trainval)\n",
    "\n",
    "print(\"Best: %f using %s\" % (grid_result.best_score_, grid_result.best_params_))\n",
    "\n",
    "means = grid_result.cv_results_['mean_test_score']\n",
    "stds = grid_result.cv_results_['std_test_score']\n",
    "params = grid_result.cv_results_['params']\n",
    "\n",
    "for mean, stdev, param in zip(means, stds, params):\n",
    "    print(\"%f (%f) with: %r\" % (mean, stdev, param))\n",
    "    "
   ]
  },
  {
   "cell_type": "markdown",
   "id": "11a82437",
   "metadata": {},
   "source": [
    "## Gradient Boosting Classifier "
   ]
  },
  {
   "cell_type": "code",
   "execution_count": 8,
   "id": "19d101c8",
   "metadata": {
    "ExecuteTime": {
     "end_time": "2023-12-10T08:26:01.893822Z",
     "start_time": "2023-12-10T08:26:01.886777Z"
    }
   },
   "outputs": [],
   "source": [
    "param_test = {'learning_rate':[0.1,0.02,0.3,0.01]}\n",
    "\n",
    "model = GradientBoostingClassifier()\n",
    "\n",
    "# kfold = KFold(n_splits=num_folds, random_state=33,shuffle=True)\n",
    "\n",
    "grid = GridSearchCV(estimator=model, param_grid=param_test, scoring=scoring, cv=stratifiedkf)\n",
    "grid_result = grid.fit(rescaledtrainX, target_trainval)\n",
    "print(\"Best: %f using %s\" % (grid_result.best_score_, grid_result.best_params_))\n",
    "\n",
    "means = grid_result.cv_results_['mean_test_score']\n",
    "stds = grid_result.cv_results_['std_test_score']\n",
    "params = grid_result.cv_results_['params']\n",
    "\n",
    "for mean, stdev, param in zip(means, stds, params):\n",
    "    print(\"%f (%f) with: %r\" % (mean, stdev, param))"
   ]
  },
  {
   "cell_type": "markdown",
   "id": "8a05c69a",
   "metadata": {},
   "source": [
    "## XGBoosting Classifier"
   ]
  },
  {
   "cell_type": "code",
   "execution_count": 9,
   "id": "9969279d",
   "metadata": {
    "ExecuteTime": {
     "end_time": "2023-12-10T08:26:07.123255Z",
     "start_time": "2023-12-10T08:26:07.105263Z"
    }
   },
   "outputs": [],
   "source": [
    "from sklearn.model_selection import StratifiedKFold\n",
    "\n",
    "learning_rate_values=[0.01,0.02,0.03,0.1,0.3]\n",
    "param_grid = dict(learning_rate=learning_rate_values)\n",
    "\n",
    "model = xgb.XGBClassifier()\n",
    "\n",
    "\n",
    "\n",
    "grid = GridSearchCV(estimator=model, param_grid=param_grid, scoring=scoring, cv=stratifiedkf)\n",
    "grid_result = grid.fit(rescaledtrainX, target_trainval)\n",
    "print(\"Best: %f using %s\" % (grid_result.best_score_, grid_result.best_params_))\n",
    "\n",
    "means = grid_result.cv_results_['mean_test_score']\n",
    "stds = grid_result.cv_results_['std_test_score']\n",
    "params = grid_result.cv_results_['params']\n",
    "\n",
    "for mean, stdev, param in zip(means, stds, params):\n",
    "    print(\"%f (%f) with: %r\" % (mean, stdev, param))"
   ]
  },
  {
   "cell_type": "code",
   "execution_count": 10,
   "id": "e1772198",
   "metadata": {
    "ExecuteTime": {
     "end_time": "2023-12-10T08:26:10.126869Z",
     "start_time": "2023-12-10T08:26:10.113871Z"
    }
   },
   "outputs": [],
   "source": [
    "param_test = {'n_estimators':range(100,700,100),'max_depth':range(5,12,2)}\n",
    "\n",
    "model = xgb.XGBClassifier(learning_rate=0.03)\n",
    "\n",
    "# kfold = KFold(n_splits=num_folds, random_state=33,shuffle=True)\n",
    "\n",
    "grid = GridSearchCV(estimator=model, param_grid=param_test, scoring=\"roc_auc\", cv=stratifiedkf)\n",
    "grid_result = grid.fit(rescaledtrainX, target_trainval)\n",
    "print(\"Best: %f using %s\" % (grid_result.best_score_, grid_result.best_params_))\n",
    "\n",
    "means = grid_result.cv_results_['mean_test_score']\n",
    "stds = grid_result.cv_results_['std_test_score']\n",
    "params = grid_result.cv_results_['params']\n",
    "\n",
    "for mean, stdev, param in zip(means, stds, params):\n",
    "    print(\"%f (%f) with: %r\" % (mean, stdev, param))"
   ]
  },
  {
   "cell_type": "markdown",
   "id": "3f18423c",
   "metadata": {},
   "source": [
    "## Light Gradient Boosting Machine"
   ]
  },
  {
   "cell_type": "code",
   "execution_count": 11,
   "id": "3afb87c2",
   "metadata": {
    "ExecuteTime": {
     "end_time": "2023-12-10T08:26:16.408294Z",
     "start_time": "2023-12-10T08:26:16.403294Z"
    }
   },
   "outputs": [],
   "source": [
    "param_test = {'learning_rate':[0.1,0.01,0.3,0.5,0.2]}\n",
    "\n",
    "model = lgb.LGBMClassifier()\n",
    "\n",
    "\n",
    "\n",
    "grid = GridSearchCV(estimator=model, param_grid=param_test, scoring=scoring, cv=stratifiedkf)\n",
    "grid_result = grid.fit(rescaledtrainX, target_trainval)\n",
    "print(\"Best: %f using %s\" % (grid_result.best_score_, grid_result.best_params_))\n",
    "\n",
    "means = grid_result.cv_results_['mean_test_score']\n",
    "stds = grid_result.cv_results_['std_test_score']\n",
    "params = grid_result.cv_results_['params']\n",
    "\n",
    "for mean, stdev, param in zip(means, stds, params):\n",
    "    print(\"%f (%f) with: %r\" % (mean, stdev, param))"
   ]
  },
  {
   "cell_type": "code",
   "execution_count": 12,
   "id": "a028f064",
   "metadata": {
    "ExecuteTime": {
     "end_time": "2023-12-10T08:26:18.841825Z",
     "start_time": "2023-12-10T08:26:18.824410Z"
    }
   },
   "outputs": [],
   "source": [
    "param_test = {'learning_rate':[0.1,0.01,0.3,0.5,0.2]}\n",
    "\n",
    "model = lgb.LGBMClassifier()\n",
    "\n",
    "\n",
    "\n",
    "grid = GridSearchCV(estimator=model, param_grid=param_test, scoring=scoring, cv=stratifiedkf)\n",
    "grid_result = grid.fit(rescaledtrainX, target_trainval)\n",
    "print(\"Best: %f using %s\" % (grid_result.best_score_, grid_result.best_params_))\n",
    "\n",
    "means = grid_result.cv_results_['mean_test_score']\n",
    "stds = grid_result.cv_results_['std_test_score']\n",
    "params = grid_result.cv_results_['params']\n",
    "\n",
    "for mean, stdev, param in zip(means, stds, params):\n",
    "    print(\"%f (%f) with: %r\" % (mean, stdev, param))"
   ]
  },
  {
   "cell_type": "markdown",
   "id": "bbff4422",
   "metadata": {
    "ExecuteTime": {
     "end_time": "2022-10-12T01:45:53.674791Z",
     "start_time": "2022-10-12T01:45:53.660762Z"
    }
   },
   "source": [
    "## CatboostClassifier "
   ]
  },
  {
   "cell_type": "code",
   "execution_count": 13,
   "id": "4fa85ef1",
   "metadata": {
    "ExecuteTime": {
     "end_time": "2023-12-10T08:26:25.367575Z",
     "start_time": "2023-12-10T08:26:25.351629Z"
    }
   },
   "outputs": [],
   "source": [
    "from sklearn.model_selection import StratifiedKFold\n",
    "\n",
    "learning_rate_values=[0.01,0.02,0.03,0.1]\n",
    "param_grid = dict(learning_rate=learning_rate_values)\n",
    "\n",
    "model = cb.CatBoostClassifier(verbose=False)\n",
    "\n",
    "\n",
    "grid = GridSearchCV(estimator=model, param_grid=param_grid, scoring=scoring, cv=stratifiedkf)\n",
    "grid_result = grid.fit(rescaledtrainX, target_trainval)\n",
    "print(\"Best: %f using %s\" % (grid_result.best_score_, grid_result.best_params_))\n",
    "\n",
    "means = grid_result.cv_results_['mean_test_score']\n",
    "stds = grid_result.cv_results_['std_test_score']\n",
    "params = grid_result.cv_results_['params']\n",
    "\n",
    "for mean, stdev, param in zip(means, stds, params):\n",
    "    print(\"%f (%f) with: %r\" % (mean, stdev, param))"
   ]
  },
  {
   "cell_type": "code",
   "execution_count": 14,
   "id": "1dd4af82",
   "metadata": {
    "ExecuteTime": {
     "end_time": "2023-12-10T08:26:31.359807Z",
     "start_time": "2023-12-10T08:26:31.350808Z"
    }
   },
   "outputs": [],
   "source": [
    "from sklearn.model_selection import StratifiedKFold\n",
    "stratifiedkf=StratifiedKFold(n_splits=5)\n",
    "param_test = {'iterations': range(200,1000,100), 'learning_rate': [0.01]}\n",
    "\n",
    "model = cb.CatBoostClassifier(verbose=False)\n",
    "\n",
    "\n",
    "\n",
    "grid = GridSearchCV(estimator=model, param_grid=param_test, scoring=scoring, cv=stratifiedkf)\n",
    "grid_result = grid.fit(rescaledtrainX, target_trainval)\n",
    "print(\"Best: %f using %s\" % (grid_result.best_score_, grid_result.best_params_))\n",
    "\n",
    "means = grid_result.cv_results_['mean_test_score']\n",
    "stds = grid_result.cv_results_['std_test_score']\n",
    "params = grid_result.cv_results_['params']\n",
    "\n",
    "for mean, stdev, param in zip(means, stds, params):\n",
    "    print(\"%f (%f) with: %r\" % (mean, stdev, param))\n",
    "# random_strength"
   ]
  },
  {
   "cell_type": "code",
   "execution_count": 15,
   "id": "5f628b1d",
   "metadata": {
    "ExecuteTime": {
     "end_time": "2023-12-10T08:26:36.803328Z",
     "start_time": "2023-12-10T08:26:36.794329Z"
    }
   },
   "outputs": [],
   "source": [
    "from sklearn.model_selection import StratifiedKFold\n",
    "stratifiedkf=StratifiedKFold(n_splits=5)\n",
    "param_test = {'max_depth':range(5,13,2), 'iterations': [600], \n",
    "              'learning_rate': [0.01]}\n",
    "\n",
    "model = cb.CatBoostClassifier(verbose=False)\n",
    "\n",
    "\n",
    "\n",
    "grid = GridSearchCV(estimator=model, param_grid=param_test, scoring=scoring, cv=stratifiedkf)\n",
    "grid_result = grid.fit(rescaledtrainX, target_trainval)\n",
    "print(\"Best: %f using %s\" % (grid_result.best_score_, grid_result.best_params_))\n",
    "\n",
    "means = grid_result.cv_results_['mean_test_score']\n",
    "stds = grid_result.cv_results_['std_test_score']\n",
    "params = grid_result.cv_results_['params']\n",
    "\n",
    "for mean, stdev, param in zip(means, stds, params):\n",
    "    print(\"%f (%f) with: %r\" % (mean, stdev, param))\n",
    "# random_strength"
   ]
  }
 ],
 "metadata": {
  "hide_input": false,
  "kernelspec": {
   "display_name": "Python 3 (ipykernel)",
   "language": "python",
   "name": "python3"
  },
  "language_info": {
   "codemirror_mode": {
    "name": "ipython",
    "version": 3
   },
   "file_extension": ".py",
   "mimetype": "text/x-python",
   "name": "python",
   "nbconvert_exporter": "python",
   "pygments_lexer": "ipython3",
   "version": "3.9.12"
  },
  "toc": {
   "base_numbering": 1,
   "nav_menu": {},
   "number_sections": true,
   "sideBar": true,
   "skip_h1_title": false,
   "title_cell": "Table of Contents",
   "title_sidebar": "Contents",
   "toc_cell": false,
   "toc_position": {
    "height": "781px",
    "left": "75px",
    "top": "111.125px",
    "width": "367.547px"
   },
   "toc_section_display": true,
   "toc_window_display": true
  },
  "varInspector": {
   "cols": {
    "lenName": 16,
    "lenType": 16,
    "lenVar": 40
   },
   "kernels_config": {
    "python": {
     "delete_cmd_postfix": "",
     "delete_cmd_prefix": "del ",
     "library": "var_list.py",
     "varRefreshCmd": "print(var_dic_list())"
    },
    "r": {
     "delete_cmd_postfix": ") ",
     "delete_cmd_prefix": "rm(",
     "library": "var_list.r",
     "varRefreshCmd": "cat(var_dic_list()) "
    }
   },
   "types_to_exclude": [
    "module",
    "function",
    "builtin_function_or_method",
    "instance",
    "_Feature"
   ],
   "window_display": false
  }
 },
 "nbformat": 4,
 "nbformat_minor": 5
}
