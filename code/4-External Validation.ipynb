{
 "cells": [
  {
   "cell_type": "markdown",
   "id": "f09cdac5",
   "metadata": {
    "ExecuteTime": {
     "end_time": "2023-12-06T08:26:14.674118Z",
     "start_time": "2023-12-06T08:26:14.668117Z"
    }
   },
   "source": [
    "# Load packages"
   ]
  },
  {
   "cell_type": "code",
   "execution_count": 1,
   "id": "121eb736",
   "metadata": {
    "ExecuteTime": {
     "end_time": "2023-12-10T08:22:34.128891Z",
     "start_time": "2023-12-10T08:22:33.018853Z"
    }
   },
   "outputs": [],
   "source": [
    "import numpy\n",
    "import pandas as pd\n",
    "from matplotlib import pyplot\n",
    "import matplotlib.pyplot as plt\n",
    "from pandas import read_csv\n",
    "from sklearn.metrics import RocCurveDisplay\n",
    "from pandas.plotting import scatter_matrix\n",
    "from sklearn.preprocessing import StandardScaler\n",
    "from sklearn.model_selection import train_test_split\n",
    "from sklearn.model_selection import KFold\n",
    "from sklearn.model_selection import cross_val_score\n",
    "from sklearn.model_selection import GridSearchCV\n",
    "from sklearn.metrics import classification_report\n",
    "from sklearn.metrics import confusion_matrix\n",
    "from sklearn.metrics import accuracy_score\n",
    "from sklearn.pipeline import Pipeline\n",
    "from sklearn.linear_model import LogisticRegression\n",
    "from sklearn.tree import DecisionTreeClassifier\n",
    "from sklearn.neighbors import KNeighborsClassifier\n",
    "from sklearn.discriminant_analysis import LinearDiscriminantAnalysis\n",
    "from sklearn.naive_bayes import GaussianNB\n",
    "from sklearn.svm import SVC\n",
    "from sklearn.ensemble import AdaBoostClassifier\n",
    "from sklearn.ensemble import GradientBoostingClassifier\n",
    "from sklearn.ensemble import RandomForestClassifier\n",
    "from sklearn.ensemble import ExtraTreesClassifier"
   ]
  },
  {
   "cell_type": "markdown",
   "id": "639c41c7",
   "metadata": {},
   "source": [
    "# Loding Model"
   ]
  },
  {
   "cell_type": "code",
   "execution_count": 2,
   "id": "f4e595c0",
   "metadata": {
    "ExecuteTime": {
     "end_time": "2023-12-10T08:22:34.271854Z",
     "start_time": "2023-12-10T08:22:34.264854Z"
    }
   },
   "outputs": [],
   "source": [
    "import pickle\n",
    "filename_LR = \"final_model_LR.sav\"\n",
    "\n",
    "filename_SVM = \"final_model_SVM.sav\"\n",
    "\n",
    "filename_KNN = \"final_model_KNN.sav\"\n",
    "\n",
    "filename_BAY = \"final_model_BAY.sav\"\n",
    "\n",
    "filename_DT = \"final_model_DT.sav\"\n",
    "\n",
    "filename_RF = \"final_model_RF.sav\"\n",
    "\n",
    "filename_GB = \"final_model_GB.sav\"\n",
    "\n",
    "filenam_LGB = \"final_model_LGB.sav\"\n",
    "\n",
    "filename_XGB = \"final_model_XGB.sav\"\n",
    "\n",
    "filename_CAT = \"final_model_CAT.sav\"\n",
    "\n",
    "filename_AB = \"final_model_AB.sav\"\n",
    "\n",
    "filename_EX = \"final_model_EX.sav\"\n"
   ]
  },
  {
   "cell_type": "code",
   "execution_count": 3,
   "id": "bc03974e",
   "metadata": {
    "ExecuteTime": {
     "end_time": "2023-12-10T08:22:35.502852Z",
     "start_time": "2023-12-10T08:22:34.753852Z"
    }
   },
   "outputs": [],
   "source": [
    "model_lr= pickle.load(open(filename_LR,'rb'))\n",
    "model_svm= pickle.load(open(filename_SVM,'rb'))\n",
    "model_knn= pickle.load(open(filename_KNN,'rb'))\n",
    "model_bay= pickle.load(open(filename_BAY,'rb'))\n",
    "model_dt= pickle.load(open(filename_DT,'rb'))\n",
    "model_rf= pickle.load(open(filename_RF,'rb'))\n",
    "model_gb= pickle.load(open(filename_GB,'rb'))\n",
    "model_lgb= pickle.load(open(filenam_LGB,'rb'))\n",
    "model_xgb= pickle.load(open(filename_XGB,'rb'))\n",
    "model_cat= pickle.load(open(filename_CAT,'rb'))\n",
    "model_ab= pickle.load(open(filename_AB,'rb'))\n",
    "model_ex= pickle.load(open(filename_EX,'rb'))"
   ]
  },
  {
   "cell_type": "markdown",
   "id": "482d9482",
   "metadata": {},
   "source": [
    "# Extenal Validation"
   ]
  },
  {
   "cell_type": "code",
   "execution_count": 4,
   "id": "7c036a5a",
   "metadata": {
    "ExecuteTime": {
     "end_time": "2023-12-10T08:22:37.375946Z",
     "start_time": "2023-12-10T08:22:36.897852Z"
    }
   },
   "outputs": [],
   "source": [
    "ex_val=pd.read_excel(r\"Datasets.xlsx\",sheet_name=\"Three_other_centers\")"
   ]
  },
  {
   "cell_type": "code",
   "execution_count": 5,
   "id": "50253106",
   "metadata": {
    "ExecuteTime": {
     "end_time": "2023-12-10T08:22:37.439182Z",
     "start_time": "2023-12-10T08:22:37.423853Z"
    }
   },
   "outputs": [],
   "source": [
    "features_exval=ex_val.iloc[:,2:-1]\n",
    "target_exval=ex_val.iloc[:,-1]"
   ]
  },
  {
   "cell_type": "code",
   "execution_count": 7,
   "id": "53d7e5a3",
   "metadata": {
    "ExecuteTime": {
     "end_time": "2023-12-10T08:22:46.536009Z",
     "start_time": "2023-12-10T08:22:46.518010Z"
    },
    "scrolled": true
   },
   "outputs": [
    {
     "name": "stdout",
     "output_type": "stream",
     "text": [
      "<class 'pandas.core.frame.DataFrame'>\n",
      "RangeIndex: 563 entries, 0 to 562\n",
      "Data columns (total 28 columns):\n",
      " #   Column                Non-Null Count  Dtype  \n",
      "---  ------                --------------  -----  \n",
      " 0   age                   563 non-null    float64\n",
      " 1   BMI                   551 non-null    float64\n",
      " 2   temp                  563 non-null    float64\n",
      " 3   HR                    563 non-null    int64  \n",
      " 4   SD                    563 non-null    int64  \n",
      " 5   WBC                   559 non-null    float64\n",
      " 6   Hgb                   559 non-null    float64\n",
      " 7   PLT                   559 non-null    float64\n",
      " 8   ALT                   555 non-null    float64\n",
      " 9   AST                   551 non-null    float64\n",
      " 10  ALP                   476 non-null    float64\n",
      " 11  TBil                  539 non-null    float64\n",
      " 12  SCr                   561 non-null    float64\n",
      " 13  BUN                   554 non-null    float64\n",
      " 14  ALB                   542 non-null    float64\n",
      " 15  gender                563 non-null    int64  \n",
      " 16  previous mi           563 non-null    int64  \n",
      " 17  Dm                    563 non-null    int64  \n",
      " 18  Hyperlipidemia        562 non-null    float64\n",
      " 19  Hypertension          563 non-null    int64  \n",
      " 20  CKD                   563 non-null    int64  \n",
      " 21  Infective myocardial  563 non-null    int64  \n",
      " 22  COPD                  563 non-null    int64  \n",
      " 23  stroke+stenosis       563 non-null    int64  \n",
      " 24  history_ph            562 non-null    float64\n",
      " 25  surgery_valvular      562 non-null    float64\n",
      " 26  surgery_cabg          562 non-null    float64\n",
      " 27  surgery_congenital    562 non-null    float64\n",
      "dtypes: float64(18), int64(10)\n",
      "memory usage: 123.3 KB\n"
     ]
    }
   ],
   "source": [
    "features_exval.info()"
   ]
  },
  {
   "cell_type": "code",
   "execution_count": 8,
   "id": "f7005df4",
   "metadata": {
    "ExecuteTime": {
     "end_time": "2023-12-10T08:22:54.512312Z",
     "start_time": "2023-12-10T08:22:54.502311Z"
    }
   },
   "outputs": [],
   "source": [
    "\n",
    "numerical_cols = ex_val.iloc[:,2:17].columns.to_list()\n",
    "\n",
    "categorical_cols =ex_val.iloc[:,17:-1].columns.to_list()\n",
    "\n",
    "my_cols =  numerical_cols + categorical_cols\n",
    "\n",
    "features_exval= features_exval[my_cols].copy()"
   ]
  },
  {
   "cell_type": "code",
   "execution_count": 12,
   "id": "bc469e49",
   "metadata": {
    "ExecuteTime": {
     "end_time": "2023-12-10T08:23:26.467813Z",
     "start_time": "2023-12-10T08:23:26.453814Z"
    }
   },
   "outputs": [],
   "source": [
    "scaler = StandardScaler().fit(features_trainval)\n",
    "rescaledValidationX = scaler.transform(features_exval)"
   ]
  },
  {
   "cell_type": "markdown",
   "id": "f51eaa56",
   "metadata": {},
   "source": [
    "# Result"
   ]
  },
  {
   "cell_type": "markdown",
   "id": "2d0cb92b",
   "metadata": {},
   "source": [
    "## AUC-ROC"
   ]
  },
  {
   "cell_type": "code",
   "execution_count": 13,
   "id": "2f8e2e26",
   "metadata": {
    "ExecuteTime": {
     "end_time": "2023-12-10T08:23:31.506988Z",
     "start_time": "2023-12-10T08:23:31.488870Z"
    }
   },
   "outputs": [],
   "source": [
    "plt.title(\"ROC  curve in ExValiation Dataset\")\n",
    "\n",
    "RocCurveDisplay.from_estimator(model_lr, rescaledValidationX, target_exval,ax=plt.gca())\n",
    "RocCurveDisplay.from_estimator(model_svm, rescaledValidationX, target_exval,ax=plt.gca())\n",
    "RocCurveDisplay.from_estimator(model_knn, rescaledValidationX, target_exval,ax=plt.gca())\n",
    "RocCurveDisplay.from_estimator(model_dt, rescaledValidationX, target_exval,ax=plt.gca())\n",
    "RocCurveDisplay.from_estimator(model_rf, rescaledValidationX, target_exval,ax=plt.gca())\n",
    "RocCurveDisplay.from_estimator(model_bay, rescaledValidationX, target_exval,ax=plt.gca())\n",
    "RocCurveDisplay.from_estimator(model_gb, rescaledValidationX, target_exval,ax=plt.gca())\n",
    "RocCurveDisplay.from_estimator(model_xgb, rescaledValidationX, target_exval,ax=plt.gca())\n",
    "RocCurveDisplay.from_estimator(model_lgb, rescaledValidationX, target_exval,ax=plt.gca())\n",
    "RocCurveDisplay.from_estimator(model_cat, rescaledValidationX, target_exval,ax=plt.gca())\n",
    "RocCurveDisplay.from_estimator(model_ab, rescaledValidationX, target_exval,ax=plt.gca())\n",
    "RocCurveDisplay.from_estimator(model_ex, rescaledValidationX, target_exval,ax=plt.gca())\n",
    "\n",
    "plt.legend()\n",
    "\n",
    "plt.rcParams['figure.figsize'] = (8, 6)\n",
    "\n",
    "plt.xlabel('False Positive Rate')\n",
    "\n",
    "plt.ylabel('True Positive Rate')\n",
    "\n",
    "\n",
    "plt.show()"
   ]
  },
  {
   "cell_type": "markdown",
   "id": "59d5e51e",
   "metadata": {},
   "source": [
    "## PR-AUC"
   ]
  },
  {
   "cell_type": "code",
   "execution_count": 14,
   "id": "8760ed87",
   "metadata": {
    "ExecuteTime": {
     "end_time": "2023-12-10T08:23:36.437679Z",
     "start_time": "2023-12-10T08:23:36.433675Z"
    }
   },
   "outputs": [],
   "source": [
    "from sklearn.metrics import (precision_recall_curve,PrecisionRecallDisplay)\n",
    "plt.title(\"Precision_Recall curve in ExValidation Dataset\")\n",
    "\n",
    "\n",
    "PrecisionRecallDisplay.from_estimator(model_lr, rescaledValidationX, target_exval,ax=plt.gca())\n",
    "PrecisionRecallDisplay.from_estimator(model_svm, rescaledValidationX, target_exval,ax=plt.gca())\n",
    "PrecisionRecallDisplay.from_estimator(model_knn, rescaledValidationX, target_exval,ax=plt.gca())\n",
    "PrecisionRecallDisplay.from_estimator(model_dt, rescaledValidationX, target_exval,ax=plt.gca())\n",
    "PrecisionRecallDisplay.from_estimator(model_rf, rescaledValidationX, target_exval,ax=plt.gca())\n",
    "PrecisionRecallDisplay.from_estimator(model_bay, rescaledValidationX, target_exval,ax=plt.gca())\n",
    "\n",
    "PrecisionRecallDisplay.from_estimator(model_gb, rescaledValidationX, target_exval,ax=plt.gca())\n",
    "PrecisionRecallDisplay.from_estimator(model_xgb, rescaledValidationX, target_exval,ax=plt.gca())\n",
    "PrecisionRecallDisplay.from_estimator(model_lgb, rescaledValidationX, target_exval,ax=plt.gca())\n",
    "PrecisionRecallDisplay.from_estimator(model_cat, rescaledValidationX, target_exval,ax=plt.gca())\n",
    "PrecisionRecallDisplay.from_estimator(model_ab, rescaledValidationX, target_exval,ax=plt.gca())\n",
    "PrecisionRecallDisplay.from_estimator(model_ex, rescaledValidationX, target_exval,ax=plt.gca())\n",
    "\n",
    "\n",
    "\n",
    "plt.legend()\n",
    "\n",
    "plt.rcParams['figure.figsize'] = (8, 6)\n",
    "\n",
    "plt.xlabel('Recall')\n",
    "plt.ylabel('Precision') \n",
    "plt.legend()\n",
    "\n",
    "plt.show()\n"
   ]
  },
  {
   "cell_type": "markdown",
   "id": "4c81addb",
   "metadata": {},
   "source": [
    "\n",
    "## calibration curve"
   ]
  },
  {
   "cell_type": "code",
   "execution_count": 15,
   "id": "9d48a8db",
   "metadata": {
    "ExecuteTime": {
     "end_time": "2023-12-10T08:23:41.987869Z",
     "start_time": "2023-12-10T08:23:41.974864Z"
    }
   },
   "outputs": [],
   "source": [
    "\n",
    "from sklearn.calibration import CalibrationDisplay\n",
    "\n",
    "plt.title(\"Calibaration curve in Testing Dataset\")\n",
    "\n",
    "\n",
    "CalibrationDisplay.from_estimator(model_lr, rescaledValidationX, target_exval,ax=plt.gca())\n",
    "CalibrationDisplay.from_estimator(model_svm, rescaledValidationX, target_exval,ax=plt.gca())\n",
    "CalibrationDisplay.from_estimator(model_knn, rescaledValidationX, target_exval,ax=plt.gca())\n",
    "CalibrationDisplay.from_estimator(model_dt, rescaledValidationX, target_exval,ax=plt.gca())\n",
    "CalibrationDisplay.from_estimator(model_rf, rescaledValidationX, target_exval,ax=plt.gca())\n",
    "CalibrationDisplay.from_estimator(model_bay, rescaledValidationX, target_exval,ax=plt.gca())\n",
    "\n",
    "CalibrationDisplay.from_estimator(model_gb, rescaledValidationX, target_exval,ax=plt.gca())\n",
    "CalibrationDisplay.from_estimator(model_xgb, rescaledValidationX, target_exval,ax=plt.gca())\n",
    "CalibrationDisplay.from_estimator(model_lgb, rescaledValidationX, target_exval,ax=plt.gca())\n",
    "CalibrationDisplay.from_estimator(model_cat, rescaledValidationX, target_exval,ax=plt.gca())\n",
    "CalibrationDisplay.from_estimator(model_ab, rescaledValidationX, target_exval,ax=plt.gca())\n",
    "CalibrationDisplay.from_estimator(model_ex, rescaledValidationX, target_exval,ax=plt.gca())\n",
    "\n",
    "\n",
    "plt.legend()\n",
    "\n",
    "plt.rcParams['figure.figsize'] = (12, 10)\n",
    " \n",
    "plt.legend()\n",
    "plt.show()\n"
   ]
  },
  {
   "cell_type": "markdown",
   "id": "a61035b0",
   "metadata": {},
   "source": [
    "## SHAP"
   ]
  },
  {
   "cell_type": "code",
   "execution_count": 51,
   "id": "046ce9a6",
   "metadata": {
    "ExecuteTime": {
     "end_time": "2023-12-08T13:02:20.084812Z",
     "start_time": "2023-12-08T13:02:20.076785Z"
    }
   },
   "outputs": [],
   "source": [
    "import shap\n",
    "import catboost as cb"
   ]
  },
  {
   "cell_type": "code",
   "execution_count": 108,
   "id": "b063fdc7",
   "metadata": {
    "ExecuteTime": {
     "end_time": "2023-12-10T02:18:58.477385Z",
     "start_time": "2023-12-10T02:18:55.873369Z"
    }
   },
   "outputs": [
    {
     "data": {
      "text/plain": [
       "<catboost.core.CatBoostClassifier at 0x1cf863f6640>"
      ]
     },
     "execution_count": 108,
     "metadata": {},
     "output_type": "execute_result"
    }
   ],
   "source": [
    "model_cat_ex = cb.CatBoostClassifier(max_depth=8, iterations=500,learning_rate=0.01,verbose=False)\n",
    "model_cat_ex.fit(features_trainval, target_trainval)"
   ]
  },
  {
   "cell_type": "code",
   "execution_count": 109,
   "id": "7f4f4241",
   "metadata": {
    "ExecuteTime": {
     "end_time": "2023-12-10T02:18:59.330406Z",
     "start_time": "2023-12-10T02:18:59.237393Z"
    }
   },
   "outputs": [],
   "source": [
    "explainer = shap.TreeExplainer(model_cat_ex) \n"
   ]
  },
  {
   "cell_type": "code",
   "execution_count": 110,
   "id": "cc14bc27",
   "metadata": {
    "ExecuteTime": {
     "end_time": "2023-12-10T02:19:04.928472Z",
     "start_time": "2023-12-10T02:19:00.136386Z"
    }
   },
   "outputs": [],
   "source": [
    "shap_values = explainer.shap_values(features_exval)"
   ]
  },
  {
   "cell_type": "code",
   "execution_count": 111,
   "id": "3c5fdc0e",
   "metadata": {
    "ExecuteTime": {
     "end_time": "2023-12-10T02:19:06.062119Z",
     "start_time": "2023-12-10T02:19:05.905119Z"
    }
   },
   "outputs": [
    {
     "data": {
      "image/png": "[encoded data removed]",
      "text/plain": [
       "<Figure size 576x684 with 1 Axes>"
      ]
     },
     "metadata": {
      "needs_background": "light"
     },
     "output_type": "display_data"
    }
   ],
   "source": [
    "shap.summary_plot(shap_values, features_exval, plot_type=\"bar\",show=False)"
   ]
  },
  {
   "cell_type": "code",
   "execution_count": 112,
   "id": "80730b7d",
   "metadata": {
    "ExecuteTime": {
     "end_time": "2023-12-10T02:19:07.318985Z",
     "start_time": "2023-12-10T02:19:06.963120Z"
    }
   },
   "outputs": [
    {
     "data": {
      "image/png": "[encoded data removed]",
      "text/plain": [
       "<Figure size 576x684 with 2 Axes>"
      ]
     },
     "metadata": {
      "needs_background": "light"
     },
     "output_type": "display_data"
    }
   ],
   "source": [
    "shap.summary_plot(shap_values, features_exval.iloc[:,:])"
   ]
  },
  {
   "cell_type": "markdown",
   "id": "2b73b346",
   "metadata": {},
   "source": [
    "## Other Evaluation Index"
   ]
  },
  {
   "cell_type": "code",
   "execution_count": 113,
   "id": "9da1d53d",
   "metadata": {
    "ExecuteTime": {
     "end_time": "2023-12-10T02:19:08.201123Z",
     "start_time": "2023-12-10T02:19:08.188106Z"
    }
   },
   "outputs": [],
   "source": [
    "import matplotlib.pyplot as plt\n",
    "from matplotlib.gridspec import GridSpec\n",
    "\n",
    "from sklearn.calibration import CalibratedClassifierCV, CalibrationDisplay\n",
    "from sklearn.linear_model import LogisticRegression\n",
    "from sklearn.naive_bayes import GaussianNB\n",
    "\n",
    "\n",
    "clf_list = [\n",
    "    (model_lr, \"Logistic Regression\"),\n",
    "    (model_svm, \"Support Vector Machine\"),\n",
    "    (model_knn, \"KNeighborsClassifierbor\"),\n",
    "    (model_dt,\"DecisionTreeClassifier\"),\n",
    "    (model_rf, \"RandomForestClassifier\"),\n",
    "    (model_bay, \"GaussianNB\"),\n",
    "    (model_gb, \"GradientBoostingClassifier\"),\n",
    "    (model_xgb, \"XGBClassifier\"),\n",
    "    (model_lgb, \"LGBMClassifier\"),\n",
    "    (model_cat, \"CatboostClassifier\"),\n",
    "    (model_ab, \"AdaBoostClassifier\"),\n",
    "    (model_ex, \"ExtraTreesClassifier\")\n",
    "]"
   ]
  },
  {
   "cell_type": "code",
   "execution_count": 114,
   "id": "d61daa51",
   "metadata": {
    "ExecuteTime": {
     "end_time": "2023-12-10T02:19:09.591141Z",
     "start_time": "2023-12-10T02:19:09.081161Z"
    }
   },
   "outputs": [
    {
     "name": "stderr",
     "output_type": "stream",
     "text": [
      "Precision is ill-defined and being set to 0.0 due to no predicted samples. Use `zero_division` parameter to control this behavior.\n",
      "Precision is ill-defined and being set to 0.0 due to no predicted samples. Use `zero_division` parameter to control this behavior.\n"
     ]
    }
   ],
   "source": [
    "from collections import defaultdict\n",
    "\n",
    "import pandas as pd\n",
    "\n",
    "from sklearn.metrics import (\n",
    "    precision_score,\n",
    "    recall_score,\n",
    "    f1_score,\n",
    "    brier_score_loss,\n",
    "    log_loss,\n",
    "    roc_auc_score,\n",
    "    accuracy_score\n",
    ")\n",
    "\n",
    "scores = defaultdict(list)\n",
    "for i, (clf, name) in enumerate(clf_list):\n",
    "#     clf.fit(rescaledtrainX, target_trainval)\n",
    "    y_prob = clf.predict_proba(rescaledValidationX)\n",
    "    y_pred = clf.predict(rescaledValidationX)\n",
    "#     y_pred_LR = model_LR.predict_proba(features_test)[:, 1].ravel()\n",
    "    \n",
    "    scores[\"Classifier\"].append(name)\n",
    "\n",
    "    for metric in [roc_auc_score,brier_score_loss, log_loss]:\n",
    "        score_name = metric.__name__.replace(\"_\", \" \").replace(\"score\", \"\").capitalize()\n",
    "        scores[score_name].append(metric(target_exval, y_prob[:, 1]))\n",
    "\n",
    "    for metric in [accuracy_score,precision_score, recall_score, f1_score]:\n",
    "        score_name = metric.__name__.replace(\"_\", \" \").replace(\"score\", \"\").capitalize()\n",
    "        scores[score_name].append(metric(target_exval, y_pred))\n",
    "\n",
    "    score_df_nofs_exval = pd.DataFrame(scores).set_index(\"Classifier\")\n",
    "    score_df_nofs_exval.round(decimals=3)\n"
   ]
  },
  {
   "cell_type": "code",
   "execution_count": 16,
   "id": "ea13a855",
   "metadata": {
    "ExecuteTime": {
     "end_time": "2023-12-10T08:23:53.187201Z",
     "start_time": "2023-12-10T08:23:53.176201Z"
    }
   },
   "outputs": [],
   "source": [
    "# score_df_nofs_exval"
   ]
  },
  {
   "cell_type": "markdown",
   "id": "11c042fb",
   "metadata": {},
   "source": [
    "# MIMIC-IV Validation"
   ]
  },
  {
   "cell_type": "code",
   "execution_count": 116,
   "id": "cf1507f8",
   "metadata": {
    "ExecuteTime": {
     "end_time": "2023-12-10T02:19:13.136930Z",
     "start_time": "2023-12-10T02:19:11.478105Z"
    }
   },
   "outputs": [],
   "source": [
    "miv = pd.read_excel(r'MIMIC-IV.xlsx',sheet_name=\"age<70\")"
   ]
  },
  {
   "cell_type": "code",
   "execution_count": 117,
   "id": "7598d24a",
   "metadata": {
    "ExecuteTime": {
     "end_time": "2023-12-10T02:19:14.027905Z",
     "start_time": "2023-12-10T02:19:14.014906Z"
    },
    "scrolled": true
   },
   "outputs": [
    {
     "name": "stdout",
     "output_type": "stream",
     "text": [
      "<class 'pandas.core.frame.DataFrame'>\n",
      "RangeIndex: 4438 entries, 0 to 4437\n",
      "Data columns (total 30 columns):\n",
      " #   Column                Non-Null Count  Dtype  \n",
      "---  ------                --------------  -----  \n",
      " 0   id                    4438 non-null   int64  \n",
      " 1   age                   4438 non-null   float64\n",
      " 2   BMI                   4104 non-null   float64\n",
      " 3   temp                  4377 non-null   float64\n",
      " 4   HR                    4435 non-null   float64\n",
      " 5   SD                    4433 non-null   float64\n",
      " 6   WBC                   4269 non-null   float64\n",
      " 7   Hgb                   4227 non-null   float64\n",
      " 8   PLT                   4268 non-null   float64\n",
      " 9   ALT                   4045 non-null   float64\n",
      " 10  AST                   4093 non-null   float64\n",
      " 11  ALP                   4072 non-null   float64\n",
      " 12  TBil                  3976 non-null   float64\n",
      " 13  SCr                   3612 non-null   float64\n",
      " 14  BUN                   4272 non-null   float64\n",
      " 15  ALB                   3912 non-null   float64\n",
      " 16  gender                4438 non-null   int64  \n",
      " 17  previous mi           4438 non-null   int64  \n",
      " 18  Dm                    4438 non-null   int64  \n",
      " 19  Hyperlipidemia        4438 non-null   int64  \n",
      " 20  Hypertension          4438 non-null   int64  \n",
      " 21  CKD                   4438 non-null   int64  \n",
      " 22  Infective myocardial  4438 non-null   int64  \n",
      " 23  COPD                  4438 non-null   int64  \n",
      " 24  stroke+stenosis       4438 non-null   int64  \n",
      " 25  history_ph            4438 non-null   int64  \n",
      " 26  surgery_valvular      4438 non-null   int64  \n",
      " 27  surgery_cabg          4438 non-null   int64  \n",
      " 28  surgery_congenital    4438 non-null   int64  \n",
      " 29  RBC                   4438 non-null   int64  \n",
      "dtypes: float64(15), int64(15)\n",
      "memory usage: 1.0 MB\n"
     ]
    }
   ],
   "source": [
    "miv.info()"
   ]
  },
  {
   "cell_type": "code",
   "execution_count": 118,
   "id": "c1b4599c",
   "metadata": {
    "ExecuteTime": {
     "end_time": "2023-12-10T02:19:14.874627Z",
     "start_time": "2023-12-10T02:19:14.861628Z"
    }
   },
   "outputs": [],
   "source": [
    "features_miv=miv.iloc[:,1:-1]\n",
    "target_miv=miv.iloc[:,-1]"
   ]
  },
  {
   "cell_type": "markdown",
   "id": "454732dd",
   "metadata": {},
   "source": [
    "## Statistic Processing"
   ]
  },
  {
   "cell_type": "code",
   "execution_count": 119,
   "id": "10175f3b",
   "metadata": {
    "ExecuteTime": {
     "end_time": "2023-12-10T02:19:15.734158Z",
     "start_time": "2023-12-10T02:19:15.720625Z"
    }
   },
   "outputs": [],
   "source": [
    "\n",
    "numerical_cols = miv.iloc[:,1:16].columns.to_list()\n",
    "\n",
    "categorical_cols =miv.iloc[:,16:-1].columns.to_list()\n",
    "\n",
    "\n",
    "my_cols =  numerical_cols + categorical_cols\n",
    "\n",
    "features_miv= features_miv[my_cols].copy()\n",
    "\n"
   ]
  },
  {
   "cell_type": "code",
   "execution_count": 120,
   "id": "223fc9a0",
   "metadata": {
    "ExecuteTime": {
     "end_time": "2023-12-10T02:19:16.668049Z",
     "start_time": "2023-12-10T02:19:16.640036Z"
    }
   },
   "outputs": [],
   "source": [
    "from sklearn.compose import ColumnTransformer\n",
    "from sklearn.pipeline import Pipeline\n",
    "from sklearn.impute import SimpleImputer\n",
    "from sklearn.preprocessing import OneHotEncoder\n",
    "\n",
    "numerical_transformer = SimpleImputer(strategy='mean')\n",
    "\n",
    "categorical_transformer = SimpleImputer(strategy='most_frequent')\n",
    "\n",
    "\n",
    "preprocessor = ColumnTransformer(\n",
    "    transformers=[\n",
    "        ('num', numerical_transformer, numerical_cols),\n",
    "        ('cat', categorical_transformer, categorical_cols)\n",
    "    ])\n",
    "\n",
    "\n",
    "steps = []\n",
    "\n",
    "steps.append(('preprocessor', preprocessor))\n",
    "\n",
    "my_pipeline = Pipeline(steps = steps)\n",
    "\n",
    "\n",
    "my_pipeline.fit(features_miv)\n",
    "\n",
    "    \n",
    "features_t = my_pipeline.transform(features_miv)\n",
    "\n",
    "features_trans=pd.DataFrame(features_t,columns=my_cols)\n",
    "\n"
   ]
  },
  {
   "cell_type": "code",
   "execution_count": 71,
   "id": "cf7a9fea",
   "metadata": {
    "ExecuteTime": {
     "end_time": "2023-12-09T02:04:55.591477Z",
     "start_time": "2023-12-09T02:04:55.578476Z"
    }
   },
   "outputs": [
    {
     "data": {
      "text/plain": [
       "['age',\n",
       " 'BMI',\n",
       " 'temp',\n",
       " 'HR',\n",
       " 'SD',\n",
       " 'WBC',\n",
       " 'Hgb',\n",
       " 'PLT',\n",
       " 'ALT',\n",
       " 'AST',\n",
       " 'ALP',\n",
       " 'TBil',\n",
       " 'SCr',\n",
       " 'BUN',\n",
       " 'ALB']"
      ]
     },
     "execution_count": 71,
     "metadata": {},
     "output_type": "execute_result"
    }
   ],
   "source": [
    "numerical_cols"
   ]
  },
  {
   "cell_type": "code",
   "execution_count": 744,
   "id": "e0548839",
   "metadata": {
    "ExecuteTime": {
     "end_time": "2022-12-05T03:37:36.227859Z",
     "start_time": "2022-12-05T03:37:36.218752Z"
    }
   },
   "outputs": [
    {
     "data": {
      "text/plain": [
       "['gender',\n",
       " 'previous mi',\n",
       " 'history_ph',\n",
       " 'stroke+stenosis',\n",
       " 'COPD',\n",
       " 'CKD',\n",
       " 'Hyperlipidemia',\n",
       " 'Infective myocardial',\n",
       " 'surgery_cabg',\n",
       " 'surgery_valvular',\n",
       " 'surgery_congenital']"
      ]
     },
     "execution_count": 744,
     "metadata": {},
     "output_type": "execute_result"
    }
   ],
   "source": [
    "categorical_cols"
   ]
  },
  {
   "cell_type": "code",
   "execution_count": 121,
   "id": "84d497f3",
   "metadata": {
    "ExecuteTime": {
     "end_time": "2023-12-10T02:19:17.522049Z",
     "start_time": "2023-12-10T02:19:17.509034Z"
    }
   },
   "outputs": [],
   "source": [
    "features_miv=features_trans\n"
   ]
  },
  {
   "cell_type": "code",
   "execution_count": 122,
   "id": "ca17b545",
   "metadata": {
    "ExecuteTime": {
     "end_time": "2023-12-10T02:19:18.449051Z",
     "start_time": "2023-12-10T02:19:18.438034Z"
    },
    "scrolled": true
   },
   "outputs": [
    {
     "name": "stdout",
     "output_type": "stream",
     "text": [
      "<class 'pandas.core.frame.DataFrame'>\n",
      "RangeIndex: 4438 entries, 0 to 4437\n",
      "Data columns (total 28 columns):\n",
      " #   Column                Non-Null Count  Dtype  \n",
      "---  ------                --------------  -----  \n",
      " 0   age                   4438 non-null   float64\n",
      " 1   BMI                   4438 non-null   float64\n",
      " 2   temp                  4438 non-null   float64\n",
      " 3   HR                    4438 non-null   float64\n",
      " 4   SD                    4438 non-null   float64\n",
      " 5   WBC                   4438 non-null   float64\n",
      " 6   Hgb                   4438 non-null   float64\n",
      " 7   PLT                   4438 non-null   float64\n",
      " 8   ALT                   4438 non-null   float64\n",
      " 9   AST                   4438 non-null   float64\n",
      " 10  ALP                   4438 non-null   float64\n",
      " 11  TBil                  4438 non-null   float64\n",
      " 12  SCr                   4438 non-null   float64\n",
      " 13  BUN                   4438 non-null   float64\n",
      " 14  ALB                   4438 non-null   float64\n",
      " 15  gender                4438 non-null   float64\n",
      " 16  previous mi           4438 non-null   float64\n",
      " 17  Dm                    4438 non-null   float64\n",
      " 18  Hyperlipidemia        4438 non-null   float64\n",
      " 19  Hypertension          4438 non-null   float64\n",
      " 20  CKD                   4438 non-null   float64\n",
      " 21  Infective myocardial  4438 non-null   float64\n",
      " 22  COPD                  4438 non-null   float64\n",
      " 23  stroke+stenosis       4438 non-null   float64\n",
      " 24  history_ph            4438 non-null   float64\n",
      " 25  surgery_valvular      4438 non-null   float64\n",
      " 26  surgery_cabg          4438 non-null   float64\n",
      " 27  surgery_congenital    4438 non-null   float64\n",
      "dtypes: float64(28)\n",
      "memory usage: 970.9 KB\n"
     ]
    }
   ],
   "source": [
    "features_miv.info()"
   ]
  },
  {
   "cell_type": "code",
   "execution_count": 123,
   "id": "a0bd5725",
   "metadata": {
    "ExecuteTime": {
     "end_time": "2023-12-10T02:19:19.381710Z",
     "start_time": "2023-12-10T02:19:19.367696Z"
    }
   },
   "outputs": [],
   "source": [
    "scaler = StandardScaler().fit(features_trainval)\n",
    "\n",
    "rescaledMivX = scaler.transform(features_miv)"
   ]
  },
  {
   "cell_type": "code",
   "execution_count": 124,
   "id": "188d9fa5",
   "metadata": {
    "ExecuteTime": {
     "end_time": "2023-12-10T02:19:20.276189Z",
     "start_time": "2023-12-10T02:19:20.262171Z"
    }
   },
   "outputs": [
    {
     "data": {
      "text/plain": [
       "array([[ 0.40480951,  4.52121489,  3.07273897, ..., -1.3184578 ,\n",
       "         1.54421999, -0.41205403],\n",
       "       [-0.18880767,  2.36679479,  5.24877146, ..., -1.3184578 ,\n",
       "         1.54421999, -0.41205403],\n",
       "       [ 0.31518376,  0.92225488,  0.03379703, ...,  0.75846189,\n",
       "        -0.64757613, -0.41205403],\n",
       "       ...,\n",
       "       [ 0.89633679,  1.51559057,  0.22138604, ...,  0.75846189,\n",
       "        -0.64757613, -0.41205403],\n",
       "       [ 0.08726666,  2.67831518,  0.85918867, ...,  0.75846189,\n",
       "        -0.64757613, -0.41205403],\n",
       "       [ 1.13394436,  1.63539417, -0.19130978, ...,  0.75846189,\n",
       "        -0.64757613, -0.41205403]])"
      ]
     },
     "execution_count": 124,
     "metadata": {},
     "output_type": "execute_result"
    }
   ],
   "source": [
    "rescaledMivX"
   ]
  },
  {
   "cell_type": "markdown",
   "id": "9245541b",
   "metadata": {
    "ExecuteTime": {
     "end_time": "2022-12-03T12:54:56.815493Z",
     "start_time": "2022-12-03T12:54:56.800493Z"
    }
   },
   "source": [
    "## AUC-ROC"
   ]
  },
  {
   "cell_type": "code",
   "execution_count": 17,
   "id": "8b7a384a",
   "metadata": {
    "ExecuteTime": {
     "end_time": "2023-12-10T08:24:06.551275Z",
     "start_time": "2023-12-10T08:24:06.540281Z"
    }
   },
   "outputs": [],
   "source": [
    "plt.title(\"ROC curve in MIMIC-IV Dataset(age≤70)\")\n",
    "\n",
    "RocCurveDisplay.from_estimator(model_lr, rescaledMivX, target_miv,ax=plt.gca())\n",
    "RocCurveDisplay.from_estimator(model_svm, rescaledMivX, target_miv,ax=plt.gca())\n",
    "RocCurveDisplay.from_estimator(model_knn, rescaledMivX, target_miv,ax=plt.gca())\n",
    "RocCurveDisplay.from_estimator(model_dt, rescaledMivX, target_miv,ax=plt.gca())\n",
    "RocCurveDisplay.from_estimator(model_rf, rescaledMivX, target_miv,ax=plt.gca())\n",
    "RocCurveDisplay.from_estimator(model_bay, rescaledMivX, target_miv,ax=plt.gca())\n",
    "RocCurveDisplay.from_estimator(model_gb, rescaledMivX, target_miv,ax=plt.gca())\n",
    "RocCurveDisplay.from_estimator(model_xgb, rescaledMivX, target_miv,ax=plt.gca())\n",
    "RocCurveDisplay.from_estimator(model_lgb, rescaledMivX, target_miv,ax=plt.gca())\n",
    "RocCurveDisplay.from_estimator(model_cat, rescaledMivX, target_miv,ax=plt.gca())\n",
    "RocCurveDisplay.from_estimator(model_ab, rescaledMivX, target_miv,ax=plt.gca())\n",
    "RocCurveDisplay.from_estimator(model_ex, rescaledMivX, target_miv,ax=plt.gca())\n",
    "\n",
    "plt.legend()\n",
    "\n",
    "plt.rcParams['figure.figsize'] = (8, 6)\n",
    "\n",
    "plt.xlabel('False Positive Rate')\n",
    "\n",
    "plt.ylabel('True Positive Rate')\n",
    "\n",
    "\n",
    "plt.show()"
   ]
  },
  {
   "cell_type": "markdown",
   "id": "50839df3",
   "metadata": {},
   "source": [
    "## PR-AUC"
   ]
  },
  {
   "cell_type": "code",
   "execution_count": 18,
   "id": "baf6a8a7",
   "metadata": {
    "ExecuteTime": {
     "end_time": "2023-12-10T08:24:11.171937Z",
     "start_time": "2023-12-10T08:24:11.153920Z"
    }
   },
   "outputs": [],
   "source": [
    "from sklearn.metrics import precision_recall_curve\n",
    "from sklearn.metrics import auc\n",
    "\n",
    "plt.title(\"Precision_Recall curve in MIMIC-IV Dataset(age≤70)\")\n",
    "\n",
    "\n",
    "PrecisionRecallDisplay.from_estimator(model_lr, rescaledMivX, target_miv,ax=plt.gca())\n",
    "PrecisionRecallDisplay.from_estimator(model_svm, rescaledMivX, target_miv,ax=plt.gca())\n",
    "PrecisionRecallDisplay.from_estimator(model_knn, rescaledMivX, target_miv,ax=plt.gca())\n",
    "PrecisionRecallDisplay.from_estimator(model_dt, rescaledMivX, target_miv,ax=plt.gca())\n",
    "PrecisionRecallDisplay.from_estimator(model_rf, rescaledMivX, target_miv,ax=plt.gca())\n",
    "PrecisionRecallDisplay.from_estimator(model_bay, rescaledMivX, target_miv,ax=plt.gca())\n",
    "\n",
    "PrecisionRecallDisplay.from_estimator(model_gb, rescaledMivX, target_miv,ax=plt.gca())\n",
    "PrecisionRecallDisplay.from_estimator(model_xgb, rescaledMivX, target_miv,ax=plt.gca())\n",
    "PrecisionRecallDisplay.from_estimator(model_lgb, rescaledMivX, target_miv,ax=plt.gca())\n",
    "PrecisionRecallDisplay.from_estimator(model_cat, rescaledMivX, target_miv,ax=plt.gca())\n",
    "PrecisionRecallDisplay.from_estimator(model_ab, rescaledMivX, target_miv,ax=plt.gca())\n",
    "PrecisionRecallDisplay.from_estimator(model_ex, rescaledMivX, target_miv,ax=plt.gca())\n",
    "\n",
    "\n",
    "\n",
    "plt.legend()\n",
    "\n",
    "plt.rcParams['figure.figsize'] = (12, 10)\n",
    "\n",
    "\n",
    "plt.xlabel('Recall')\n",
    "plt.ylabel('Precision') \n",
    "plt.legend()\n",
    "\n",
    "plt.show()\n"
   ]
  },
  {
   "cell_type": "markdown",
   "id": "d6d998e0",
   "metadata": {},
   "source": [
    "## Calibration curve"
   ]
  },
  {
   "cell_type": "code",
   "execution_count": 19,
   "id": "64203429",
   "metadata": {
    "ExecuteTime": {
     "end_time": "2023-12-10T08:24:16.170615Z",
     "start_time": "2023-12-10T08:24:16.153601Z"
    }
   },
   "outputs": [],
   "source": [
    "\n",
    "from sklearn.calibration import CalibrationDisplay\n",
    "\n",
    "plt.title(\"Calibaration curve in  MIMIC-IV Dataset(age≤70)\")\n",
    "\n",
    "\n",
    "CalibrationDisplay.from_estimator(model_lr, rescaledMivX, target_miv,ax=plt.gca())\n",
    "CalibrationDisplay.from_estimator(model_svm, rescaledMivX, target_miv,ax=plt.gca())\n",
    "CalibrationDisplay.from_estimator(model_knn, rescaledMivX, target_miv,ax=plt.gca())\n",
    "CalibrationDisplay.from_estimator(model_dt, rescaledMivX, target_miv,ax=plt.gca())\n",
    "CalibrationDisplay.from_estimator(model_rf, rescaledMivX, target_miv,ax=plt.gca())\n",
    "CalibrationDisplay.from_estimator(model_bay, rescaledMivX, target_miv,ax=plt.gca())\n",
    "\n",
    "CalibrationDisplay.from_estimator(model_gb, rescaledMivX, target_miv,ax=plt.gca())\n",
    "CalibrationDisplay.from_estimator(model_xgb, rescaledMivX, target_miv,ax=plt.gca())\n",
    "CalibrationDisplay.from_estimator(model_lgb, rescaledMivX, target_miv,ax=plt.gca())\n",
    "CalibrationDisplay.from_estimator(model_cat, rescaledMivX, target_miv,ax=plt.gca())\n",
    "CalibrationDisplay.from_estimator(model_ab, rescaledMivX, target_miv,ax=plt.gca())\n",
    "CalibrationDisplay.from_estimator(model_ex, rescaledMivX, target_miv,ax=plt.gca())\n",
    "\n",
    "\n",
    "plt.legend()\n",
    "\n",
    "plt.rcParams['figure.figsize'] = (10, 8)\n",
    " \n",
    "plt.legend()\n",
    "plt.show()\n"
   ]
  },
  {
   "cell_type": "markdown",
   "id": "dadda178",
   "metadata": {
    "ExecuteTime": {
     "end_time": "2022-12-05T03:38:25.412525Z",
     "start_time": "2022-12-05T03:38:25.394739Z"
    }
   },
   "source": [
    "## Other Evaluation Index"
   ]
  },
  {
   "cell_type": "code",
   "execution_count": 128,
   "id": "f160d911",
   "metadata": {
    "ExecuteTime": {
     "end_time": "2023-12-10T02:19:28.408278Z",
     "start_time": "2023-12-10T02:19:26.798120Z"
    }
   },
   "outputs": [
    {
     "name": "stderr",
     "output_type": "stream",
     "text": [
      "Precision is ill-defined and being set to 0.0 due to no predicted samples. Use `zero_division` parameter to control this behavior.\n"
     ]
    }
   ],
   "source": [
    "from collections import defaultdict\n",
    "\n",
    "import pandas as pd\n",
    "\n",
    "from sklearn.metrics import (\n",
    "    precision_score,\n",
    "    recall_score,\n",
    "    f1_score,\n",
    "    brier_score_loss,\n",
    "    log_loss,\n",
    "    roc_auc_score,\n",
    "    accuracy_score\n",
    ")\n",
    "\n",
    "scores = defaultdict(list)\n",
    "for i, (clf, name) in enumerate(clf_list):\n",
    "#     clf.fit(rescaledtrainX, target_trainval)\n",
    "    y_prob = clf.predict_proba(rescaledMivX)\n",
    "    y_pred = clf.predict(rescaledMivX)\n",
    "#     y_pred_LR = model_LR.predict_proba(features_test)[:, 1].ravel()\n",
    "    \n",
    "    scores[\"Classifier\"].append(name)\n",
    "\n",
    "    for metric in [roc_auc_score,brier_score_loss, log_loss]:\n",
    "        score_name = metric.__name__.replace(\"_\", \" \").replace(\"score\", \"\").capitalize()\n",
    "        scores[score_name].append(metric(target_miv, y_prob[:, 1]))\n",
    "\n",
    "    for metric in [accuracy_score,precision_score, recall_score, f1_score]:\n",
    "        score_name = metric.__name__.replace(\"_\", \" \").replace(\"score\", \"\").capitalize()\n",
    "        scores[score_name].append(metric(target_miv, y_pred))\n",
    "\n",
    "    score_miv= pd.DataFrame(scores).set_index(\"Classifier\")\n",
    "    score_miv.round(decimals=3)\n"
   ]
  },
  {
   "cell_type": "code",
   "execution_count": 20,
   "id": "890bd5dc",
   "metadata": {
    "ExecuteTime": {
     "end_time": "2023-12-10T08:24:21.277510Z",
     "start_time": "2023-12-10T08:24:21.269533Z"
    }
   },
   "outputs": [],
   "source": [
    "# score_miv"
   ]
  },
  {
   "cell_type": "markdown",
   "id": "feb6c733",
   "metadata": {},
   "source": [
    "## SHAP"
   ]
  },
  {
   "cell_type": "code",
   "execution_count": 130,
   "id": "8e5623a0",
   "metadata": {
    "ExecuteTime": {
     "end_time": "2023-12-10T02:19:35.789518Z",
     "start_time": "2023-12-10T02:19:30.361502Z"
    }
   },
   "outputs": [],
   "source": [
    "shap_values = explainer.shap_values(features_miv)"
   ]
  },
  {
   "cell_type": "code",
   "execution_count": 131,
   "id": "7f4cf76d",
   "metadata": {
    "ExecuteTime": {
     "end_time": "2023-12-10T02:19:37.450742Z",
     "start_time": "2023-12-10T02:19:36.762681Z"
    }
   },
   "outputs": [
    {
     "data": {
      "image/png": "[encoded data removed]",
      "text/plain": [
       "<Figure size 576x684 with 2 Axes>"
      ]
     },
     "metadata": {
      "needs_background": "light"
     },
     "output_type": "display_data"
    }
   ],
   "source": [
    "shap.summary_plot(shap_values, features_miv.iloc[:,:])"
   ]
  },
  {
   "cell_type": "markdown",
   "id": "0fbdc428",
   "metadata": {},
   "source": [
    "## The code for MIMIC-IV dataset age>70 are the same as above"
   ]
  },
  {
   "cell_type": "markdown",
   "id": "762f4472",
   "metadata": {},
   "source": [
    "# Decision Curve"
   ]
  },
  {
   "cell_type": "code",
   "execution_count": 132,
   "id": "0332c6e0",
   "metadata": {
    "ExecuteTime": {
     "end_time": "2023-12-10T02:20:22.719528Z",
     "start_time": "2023-12-10T02:20:22.707530Z"
    }
   },
   "outputs": [],
   "source": [
    "import numpy as np\n",
    "import matplotlib.pyplot as plt\n",
    "from sklearn.metrics import confusion_matrix\n",
    "\n",
    "\n",
    "def calculate_net_benefit_model(thresh_group, y_pred_score, y_label):\n",
    "    net_benefit_model = np.array([])\n",
    "    for thresh in thresh_group:\n",
    "        y_pred_label = y_pred_score > thresh\n",
    "        tn, fp, fn, tp = confusion_matrix(y_label, y_pred_label).ravel()\n",
    "        n = len(y_label)\n",
    "        net_benefit = (tp / n) - (fp / n) * (thresh / (1 - thresh))\n",
    "        net_benefit_model = np.append(net_benefit_model, net_benefit)\n",
    "    return net_benefit_model\n",
    "\n",
    "\n",
    "def calculate_net_benefit_all(thresh_group, y_label):\n",
    "    net_benefit_all = np.array([])\n",
    "    tn, fp, fn, tp = confusion_matrix(y_label, y_label).ravel()\n",
    "    total = tp + tn\n",
    "    for thresh in thresh_group:\n",
    "        net_benefit = (tp / total) - (tn / total) * (thresh / (1 - thresh))\n",
    "        net_benefit_all = np.append(net_benefit_all, net_benefit)\n",
    "    return net_benefit_all\n"
   ]
  },
  {
   "cell_type": "code",
   "execution_count": 133,
   "id": "b7acf8ac",
   "metadata": {
    "ExecuteTime": {
     "end_time": "2023-12-10T02:20:27.431280Z",
     "start_time": "2023-12-10T02:20:27.397259Z"
    }
   },
   "outputs": [],
   "source": [
    "predictions_lrmiv=model_lr.predict_proba(rescaledValidationX)[:,1]\n",
    "predictions_rfmiv=model_rf.predict_proba(rescaledValidationX)[:,1]\n",
    "predictions_catmiv=model_cat.predict_proba(rescaledValidationX)[:,1]"
   ]
  },
  {
   "cell_type": "code",
   "execution_count": 135,
   "id": "44ff77e8",
   "metadata": {
    "ExecuteTime": {
     "end_time": "2023-12-10T02:22:44.192193Z",
     "start_time": "2023-12-10T02:22:44.084188Z"
    }
   },
   "outputs": [
    {
     "data": {
      "image/png": "[encoded data removed]",
      "text/plain": [
       "<Figure size 720x576 with 1 Axes>"
      ]
     },
     "metadata": {
      "needs_background": "light"
     },
     "output_type": "display_data"
    }
   ],
   "source": [
    "y_label = np.array(target_exval)\n",
    "\n",
    "thresh_group = np.arange(0,1,0.1)\n",
    "\n",
    "net_benefit_all = calculate_net_benefit_all(thresh_group, y_label)\n",
    "\n",
    "\n",
    "net_benefit_model_lrmiv = calculate_net_benefit_model(thresh_group, predictions_lrmiv, y_label)\n",
    "net_benefit_model_rfmiv = calculate_net_benefit_model(thresh_group, predictions_rfmiv, y_label)\n",
    "net_benefit_model_catmiv = calculate_net_benefit_model(thresh_group, predictions_catmiv, y_label)\n",
    "\n",
    "\n",
    "plt.figure(figsize=(10,8))\n",
    "\n",
    "plt.plot(thresh_group,net_benefit_model_catmiv,label=\"CatBoostClassifier\",linestyle = '--')\n",
    "plt.plot(thresh_group,net_benefit_model_lrmiv,label=\"Logistic Regresion\",linestyle = '--') \n",
    "plt.plot(thresh_group,net_benefit_model_rfmiv,label=\"RandamForestClassifier\",linestyle = '--') \n",
    "\n",
    "\n",
    "plt.plot(thresh_group,net_benefit_all,label=\"Treat all\", color = 'black', linestyle = ':')\n",
    "plt.plot((0, 1), (0, 0), color = 'black', linestyle = ':', label = 'Treat none')\n",
    "\n",
    "\n",
    "plt.title(\"Decision Curve in ExValidatuion Dataset\")\n",
    "\n",
    "plt.xlabel(\n",
    "        xlabel = 'Threshold Probability', \n",
    "        fontdict= {'family': 'Times New Roman', 'fontsize': 15}\n",
    "        )\n",
    "plt.ylabel(\n",
    "        ylabel = 'Net Benefit', \n",
    "        fontdict= {'family': 'Times New Roman', 'fontsize': 15}\n",
    "        )\n",
    "\n",
    "\n",
    "plt.xlim((0,1.0))\n",
    "plt.ylim((-0.05,0.6))\n",
    "plt.legend()\n",
    "plt.show()"
   ]
  },
  {
   "cell_type": "markdown",
   "id": "5892fdb4",
   "metadata": {},
   "source": [
    "## The code for MIMIC-IV dataset age>70 are the same as above"
   ]
  }
 ],
 "metadata": {
  "hide_input": false,
  "kernelspec": {
   "display_name": "Python 3 (ipykernel)",
   "language": "python",
   "name": "python3"
  },
  "language_info": {
   "codemirror_mode": {
    "name": "ipython",
    "version": 3
   },
   "file_extension": ".py",
   "mimetype": "text/x-python",
   "name": "python",
   "nbconvert_exporter": "python",
   "pygments_lexer": "ipython3",
   "version": "3.9.12"
  },
  "toc": {
   "base_numbering": 1,
   "nav_menu": {},
   "number_sections": true,
   "sideBar": true,
   "skip_h1_title": false,
   "title_cell": "Table of Contents",
   "title_sidebar": "Contents",
   "toc_cell": false,
   "toc_position": {
    "height": "781px",
    "left": "75px",
    "top": "111.125px",
    "width": "326.547px"
   },
   "toc_section_display": true,
   "toc_window_display": true
  },
  "varInspector": {
   "cols": {
    "lenName": 16,
    "lenType": 16,
    "lenVar": 40
   },
   "kernels_config": {
    "python": {
     "delete_cmd_postfix": "",
     "delete_cmd_prefix": "del ",
     "library": "var_list.py",
     "varRefreshCmd": "print(var_dic_list())"
    },
    "r": {
     "delete_cmd_postfix": ") ",
     "delete_cmd_prefix": "rm(",
     "library": "var_list.r",
     "varRefreshCmd": "cat(var_dic_list()) "
    }
   },
   "types_to_exclude": [
    "module",
    "function",
    "builtin_function_or_method",
    "instance",
    "_Feature"
   ],
   "window_display": false
  }
 },
 "nbformat": 4,
 "nbformat_minor": 5
}
